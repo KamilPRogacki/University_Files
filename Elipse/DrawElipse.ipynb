 {
 "cells": [
  {
   "cell_type": "code",
   "execution_count": 1,
   "id": "bf5862ad",
   "metadata": {},
   "outputs": [],
   "source": [
    "import numpy as np\n",
    "import matplotlib.pyplot as plt\n",
    "import random\n",
    "import time"
   ]
  },
  {
   "cell_type": "code",
   "execution_count": 2,
   "id": "a76b1201",
   "metadata": {},
   "outputs": [],
   "source": [
    "def elipse(n, m, O, a, b, fill = 1):\n",
    "    RGB = np.zeros((n, m, 3), dtype = np.uint8)\n",
    "    RGB.fill(255)\n",
    "    \n",
    "    x=O[0]\n",
    "    y=O[1]\n",
    "    \n",
    "    if fill == 0:\n",
    "        for i in range(y - b, y + b + 1):\n",
    "            for j in range (x - a, x + a + 1):    \n",
    "                xx = j - x\n",
    "                yy = i - y\n",
    "                \n",
    "                if xx*xx /(a**2) +yy*yy / (b**2) < 1 and xx*xx / (a**2 - 2*a) + yy*yy / (b**2 - 2*b) > 1:\n",
    "                    if not (i < 0 or j < 0 or i >= n or j >= m):\n",
    "                        RGB[i][j] = 0\n",
    "    elif fill == 1:\n",
    "        for i in range(y - b, y + b + 1):\n",
    "            for j in range (x - a, x + a + 1):    \n",
    "                xx = j - x\n",
    "                yy = i - y\n",
    "                \n",
    "                if xx*xx / (a**2) + yy*yy / (b**2) < 1:\n",
    "                    if not (i < 0 or j < 0 or i >= n or j >= m):\n",
    "                        RGB[i][j] = 0\n",
    "    return RGB"
   ]
  },
  {
   "cell_type": "code",
   "execution_count": 3,
   "id": "4f5c1ac3",
   "metadata": {},
   "outputs": [
    {
     "data": {
      "image/png": "[encoded data removed]",
      "text/plain": [
       "<Figure size 432x288 with 1 Axes>"
      ]
     },
     "metadata": {
      "needs_background": "light"
     },
     "output_type": "display_data"
    }
   ],
   "source": [
    "elipsa = elipse(100, 100, [50,50], 45, 20, 1)\n",
    "plt.imshow(elipsa, interpolation='none', aspect=1)\n",
    "plt.show()\n",
    "plt.imsave('test.png', elipsa, format='png')  #zapis"
   ]
  },
  {
   "cell_type": "code",
   "execution_count": 4,
   "id": "66427471",
   "metadata": {},
   "outputs": [
    {
     "data": {
      "image/png": "[encoded data removed]",
      "text/plain": [
       "<Figure size 432x288 with 1 Axes>"
      ]
     },
     "metadata": {
      "needs_background": "light"
     },
     "output_type": "display_data"
    }
   ],
   "source": [
    "elipsa2 = elipse(100, 100, [50,50], 25, 40, 0)\n",
    "plt.imshow(elipsa2, interpolation='none', aspect=1)\n",
    "plt.show()\n",
    "plt.imsave('test.png', elipsa2, format='png')  #zapis "
   ]
  },
  {
   "cell_type": "code",
   "execution_count": null,
   "id": "fcc9394e",
   "metadata": {},
   "outputs": [],
   "source": []
  }
 ],
 "metadata": {
  "kernelspec": {
   "display_name": "Python 3 (ipykernel)",
   "language": "python",
   "name": "python3"
  },
  "language_info": {
   "codemirror_mode": {
    "name": "ipython",
    "version": 3
   },
   "file_extension": ".py",
   "mimetype": "text/x-python",
   "name": "python",
   "nbconvert_exporter": "python",
   "pygments_lexer": "ipython3",
   "version": "3.9.5"
  }
 },
 "nbformat": 4,
 "nbformat_minor": 5
}
